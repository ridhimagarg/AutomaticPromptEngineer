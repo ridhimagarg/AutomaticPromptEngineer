{
  "cells": [
    {
      "cell_type": "code",
      "execution_count": 1,
      "metadata": {
        "colab": {
          "base_uri": "https://localhost:8080/"
        },
        "id": "x82vwepAs3Jg",
        "outputId": "01daae41-a6da-4dfa-f8ee-1c6aa4deb7ce"
      },
      "outputs": [
        {
          "name": "stdout",
          "output_type": "stream",
          "text": [
            "Requirement already satisfied: openai in c:\\users\\gargr\\appdata\\local\\programs\\python\\python310\\lib\\site-packages (1.33.0)\n",
            "Requirement already satisfied: numpy in c:\\users\\gargr\\appdata\\local\\programs\\python\\python310\\lib\\site-packages (1.26.4)\n",
            "Requirement already satisfied: tqdm in c:\\users\\gargr\\appdata\\local\\programs\\python\\python310\\lib\\site-packages (4.66.4)\n",
            "Collecting gradio\n",
            "  Downloading gradio-4.36.1-py3-none-any.whl (12.3 MB)\n",
            "     ---------------------------------------- 12.3/12.3 MB 5.3 MB/s eta 0:00:00\n",
            "Requirement already satisfied: distro<2,>=1.7.0 in c:\\users\\gargr\\appdata\\local\\programs\\python\\python310\\lib\\site-packages (from openai) (1.9.0)\n",
            "Requirement already satisfied: pydantic<3,>=1.9.0 in c:\\users\\gargr\\appdata\\local\\programs\\python\\python310\\lib\\site-packages (from openai) (2.7.3)\n",
            "Requirement already satisfied: anyio<5,>=3.5.0 in c:\\users\\gargr\\appdata\\local\\programs\\python\\python310\\lib\\site-packages (from openai) (4.4.0)\n",
            "Requirement already satisfied: sniffio in c:\\users\\gargr\\appdata\\local\\programs\\python\\python310\\lib\\site-packages (from openai) (1.3.1)\n",
            "Requirement already satisfied: httpx<1,>=0.23.0 in c:\\users\\gargr\\appdata\\local\\programs\\python\\python310\\lib\\site-packages (from openai) (0.27.0)\n",
            "Requirement already satisfied: typing-extensions<5,>=4.7 in c:\\users\\gargr\\appdata\\local\\programs\\python\\python310\\lib\\site-packages (from openai) (4.12.2)\n",
            "Requirement already satisfied: colorama in c:\\users\\gargr\\appdata\\local\\programs\\python\\python310\\lib\\site-packages (from tqdm) (0.4.6)\n",
            "Requirement already satisfied: python-multipart>=0.0.9 in c:\\users\\gargr\\appdata\\local\\programs\\python\\python310\\lib\\site-packages (from gradio) (0.0.9)\n",
            "Collecting altair<6.0,>=4.2.0\n",
            "  Downloading altair-5.3.0-py3-none-any.whl (857 kB)\n",
            "     -------------------------------------- 857.8/857.8 KB 6.1 MB/s eta 0:00:00\n",
            "Collecting importlib-resources<7.0,>=1.3\n",
            "  Downloading importlib_resources-6.4.0-py3-none-any.whl (38 kB)\n",
            "Requirement already satisfied: pyyaml<7.0,>=5.0 in c:\\users\\gargr\\appdata\\local\\programs\\python\\python310\\lib\\site-packages (from gradio) (6.0.1)\n",
            "Requirement already satisfied: matplotlib~=3.0 in c:\\users\\gargr\\appdata\\local\\programs\\python\\python310\\lib\\site-packages (from gradio) (3.9.0)\n",
            "Requirement already satisfied: uvicorn>=0.14.0 in c:\\users\\gargr\\appdata\\local\\programs\\python\\python310\\lib\\site-packages (from gradio) (0.30.1)\n",
            "Collecting semantic-version~=2.0\n",
            "  Downloading semantic_version-2.10.0-py2.py3-none-any.whl (15 kB)\n",
            "Collecting ruff>=0.2.2\n",
            "  Downloading ruff-0.4.9-py3-none-win_amd64.whl (8.6 MB)\n",
            "     ---------------------------------------- 8.6/8.6 MB 5.8 MB/s eta 0:00:00\n",
            "Collecting huggingface-hub>=0.19.3\n",
            "  Downloading huggingface_hub-0.23.4-py3-none-any.whl (402 kB)\n",
            "     -------------------------------------- 402.6/402.6 KB 5.0 MB/s eta 0:00:00\n",
            "Collecting pydub\n",
            "  Downloading pydub-0.25.1-py2.py3-none-any.whl (32 kB)\n",
            "Collecting tomlkit==0.12.0\n",
            "  Downloading tomlkit-0.12.0-py3-none-any.whl (37 kB)\n",
            "Requirement already satisfied: orjson~=3.0 in c:\\users\\gargr\\appdata\\local\\programs\\python\\python310\\lib\\site-packages (from gradio) (3.10.3)\n",
            "Requirement already satisfied: pillow<11.0,>=8.0 in c:\\users\\gargr\\appdata\\local\\programs\\python\\python310\\lib\\site-packages (from gradio) (10.3.0)\n",
            "Requirement already satisfied: typer<1.0,>=0.12 in c:\\users\\gargr\\appdata\\local\\programs\\python\\python310\\lib\\site-packages (from gradio) (0.12.3)\n",
            "Requirement already satisfied: packaging in c:\\users\\gargr\\appdata\\local\\programs\\python\\python310\\lib\\site-packages (from gradio) (24.1)\n",
            "Collecting gradio-client==1.0.1\n",
            "  Downloading gradio_client-1.0.1-py3-none-any.whl (318 kB)\n",
            "     -------------------------------------- 318.1/318.1 KB 3.3 MB/s eta 0:00:00\n",
            "Requirement already satisfied: fastapi in c:\\users\\gargr\\appdata\\local\\programs\\python\\python310\\lib\\site-packages (from gradio) (0.111.0)\n",
            "Collecting ffmpy\n",
            "  Downloading ffmpy-0.3.2.tar.gz (5.5 kB)\n",
            "  Preparing metadata (setup.py): started\n",
            "  Preparing metadata (setup.py): finished with status 'done'\n",
            "Requirement already satisfied: jinja2<4.0 in c:\\users\\gargr\\appdata\\local\\programs\\python\\python310\\lib\\site-packages (from gradio) (3.1.4)\n",
            "Collecting urllib3~=2.0\n",
            "  Downloading urllib3-2.2.2-py3-none-any.whl (121 kB)\n",
            "     -------------------------------------- 121.4/121.4 KB 3.6 MB/s eta 0:00:00\n",
            "Requirement already satisfied: pandas<3.0,>=1.0 in c:\\users\\gargr\\appdata\\local\\programs\\python\\python310\\lib\\site-packages (from gradio) (2.2.2)\n",
            "Collecting aiofiles<24.0,>=22.0\n",
            "  Downloading aiofiles-23.2.1-py3-none-any.whl (15 kB)\n",
            "Requirement already satisfied: markupsafe~=2.0 in c:\\users\\gargr\\appdata\\local\\programs\\python\\python310\\lib\\site-packages (from gradio) (2.1.5)\n",
            "Collecting websockets<12.0,>=10.0\n",
            "  Downloading websockets-11.0.3-cp310-cp310-win_amd64.whl (124 kB)\n",
            "     -------------------------------------- 124.7/124.7 KB 7.6 MB/s eta 0:00:00\n",
            "Collecting fsspec\n",
            "  Downloading fsspec-2024.6.0-py3-none-any.whl (176 kB)\n",
            "     -------------------------------------- 176.9/176.9 KB 5.4 MB/s eta 0:00:00\n",
            "Collecting jsonschema>=3.0\n",
            "  Downloading jsonschema-4.22.0-py3-none-any.whl (88 kB)\n",
            "     ---------------------------------------- 88.3/88.3 KB 2.5 MB/s eta 0:00:00\n",
            "Collecting toolz\n",
            "  Downloading toolz-0.12.1-py3-none-any.whl (56 kB)\n",
            "     ---------------------------------------- 56.1/56.1 KB 2.9 MB/s eta 0:00:00\n",
            "Requirement already satisfied: idna>=2.8 in c:\\users\\gargr\\appdata\\local\\programs\\python\\python310\\lib\\site-packages (from anyio<5,>=3.5.0->openai) (3.7)\n",
            "Requirement already satisfied: exceptiongroup>=1.0.2 in c:\\users\\gargr\\appdata\\local\\programs\\python\\python310\\lib\\site-packages (from anyio<5,>=3.5.0->openai) (1.2.1)\n",
            "Requirement already satisfied: certifi in c:\\users\\gargr\\appdata\\local\\programs\\python\\python310\\lib\\site-packages (from httpx<1,>=0.23.0->openai) (2024.6.2)\n",
            "Requirement already satisfied: httpcore==1.* in c:\\users\\gargr\\appdata\\local\\programs\\python\\python310\\lib\\site-packages (from httpx<1,>=0.23.0->openai) (1.0.5)\n",
            "Requirement already satisfied: h11<0.15,>=0.13 in c:\\users\\gargr\\appdata\\local\\programs\\python\\python310\\lib\\site-packages (from httpcore==1.*->httpx<1,>=0.23.0->openai) (0.14.0)\n",
            "Collecting requests\n",
            "  Downloading requests-2.32.3-py3-none-any.whl (64 kB)\n",
            "     ---------------------------------------- 64.9/64.9 KB 3.4 MB/s eta 0:00:00\n",
            "Requirement already satisfied: filelock in c:\\users\\gargr\\appdata\\local\\programs\\python\\python310\\lib\\site-packages (from huggingface-hub>=0.19.3->gradio) (3.14.0)\n",
            "Requirement already satisfied: contourpy>=1.0.1 in c:\\users\\gargr\\appdata\\local\\programs\\python\\python310\\lib\\site-packages (from matplotlib~=3.0->gradio) (1.2.1)\n",
            "Requirement already satisfied: python-dateutil>=2.7 in c:\\users\\gargr\\appdata\\local\\programs\\python\\python310\\lib\\site-packages (from matplotlib~=3.0->gradio) (2.9.0.post0)\n",
            "Requirement already satisfied: cycler>=0.10 in c:\\users\\gargr\\appdata\\local\\programs\\python\\python310\\lib\\site-packages (from matplotlib~=3.0->gradio) (0.12.1)\n",
            "Requirement already satisfied: kiwisolver>=1.3.1 in c:\\users\\gargr\\appdata\\local\\programs\\python\\python310\\lib\\site-packages (from matplotlib~=3.0->gradio) (1.4.5)\n",
            "Requirement already satisfied: fonttools>=4.22.0 in c:\\users\\gargr\\appdata\\local\\programs\\python\\python310\\lib\\site-packages (from matplotlib~=3.0->gradio) (4.53.0)\n",
            "Requirement already satisfied: pyparsing>=2.3.1 in c:\\users\\gargr\\appdata\\local\\programs\\python\\python310\\lib\\site-packages (from matplotlib~=3.0->gradio) (3.1.2)\n",
            "Requirement already satisfied: tzdata>=2022.7 in c:\\users\\gargr\\appdata\\local\\programs\\python\\python310\\lib\\site-packages (from pandas<3.0,>=1.0->gradio) (2024.1)\n",
            "Requirement already satisfied: pytz>=2020.1 in c:\\users\\gargr\\appdata\\local\\programs\\python\\python310\\lib\\site-packages (from pandas<3.0,>=1.0->gradio) (2024.1)\n",
            "Requirement already satisfied: pydantic-core==2.18.4 in c:\\users\\gargr\\appdata\\local\\programs\\python\\python310\\lib\\site-packages (from pydantic<3,>=1.9.0->openai) (2.18.4)\n",
            "Requirement already satisfied: annotated-types>=0.4.0 in c:\\users\\gargr\\appdata\\local\\programs\\python\\python310\\lib\\site-packages (from pydantic<3,>=1.9.0->openai) (0.7.0)\n",
            "Requirement already satisfied: shellingham>=1.3.0 in c:\\users\\gargr\\appdata\\local\\programs\\python\\python310\\lib\\site-packages (from typer<1.0,>=0.12->gradio) (1.5.4)\n",
            "Requirement already satisfied: click>=8.0.0 in c:\\users\\gargr\\appdata\\local\\programs\\python\\python310\\lib\\site-packages (from typer<1.0,>=0.12->gradio) (8.1.7)\n",
            "Requirement already satisfied: rich>=10.11.0 in c:\\users\\gargr\\appdata\\local\\programs\\python\\python310\\lib\\site-packages (from typer<1.0,>=0.12->gradio) (13.7.1)\n",
            "Requirement already satisfied: starlette<0.38.0,>=0.37.2 in c:\\users\\gargr\\appdata\\local\\programs\\python\\python310\\lib\\site-packages (from fastapi->gradio) (0.37.2)\n",
            "Requirement already satisfied: email_validator>=2.0.0 in c:\\users\\gargr\\appdata\\local\\programs\\python\\python310\\lib\\site-packages (from fastapi->gradio) (2.1.1)\n",
            "Requirement already satisfied: fastapi-cli>=0.0.2 in c:\\users\\gargr\\appdata\\local\\programs\\python\\python310\\lib\\site-packages (from fastapi->gradio) (0.0.4)\n",
            "Requirement already satisfied: ujson!=4.0.2,!=4.1.0,!=4.2.0,!=4.3.0,!=5.0.0,!=5.1.0,>=4.0.1 in c:\\users\\gargr\\appdata\\local\\programs\\python\\python310\\lib\\site-packages (from fastapi->gradio) (5.10.0)\n",
            "Requirement already satisfied: dnspython>=2.0.0 in c:\\users\\gargr\\appdata\\local\\programs\\python\\python310\\lib\\site-packages (from email_validator>=2.0.0->fastapi->gradio) (2.6.1)\n",
            "Collecting rpds-py>=0.7.1\n",
            "  Downloading rpds_py-0.18.1-cp310-none-win_amd64.whl (209 kB)\n",
            "     -------------------------------------- 209.0/209.0 KB 3.2 MB/s eta 0:00:00\n",
            "Collecting jsonschema-specifications>=2023.03.6\n",
            "  Downloading jsonschema_specifications-2023.12.1-py3-none-any.whl (18 kB)\n",
            "Collecting attrs>=22.2.0\n",
            "  Downloading attrs-23.2.0-py3-none-any.whl (60 kB)\n",
            "     ---------------------------------------- 60.8/60.8 KB 3.2 MB/s eta 0:00:00\n",
            "Collecting referencing>=0.28.4\n",
            "  Downloading referencing-0.35.1-py3-none-any.whl (26 kB)\n",
            "Requirement already satisfied: six>=1.5 in c:\\users\\gargr\\appdata\\local\\programs\\python\\python310\\lib\\site-packages (from python-dateutil>=2.7->matplotlib~=3.0->gradio) (1.16.0)\n",
            "Requirement already satisfied: markdown-it-py>=2.2.0 in c:\\users\\gargr\\appdata\\local\\programs\\python\\python310\\lib\\site-packages (from rich>=10.11.0->typer<1.0,>=0.12->gradio) (3.0.0)\n",
            "Requirement already satisfied: pygments<3.0.0,>=2.13.0 in c:\\users\\gargr\\appdata\\local\\programs\\python\\python310\\lib\\site-packages (from rich>=10.11.0->typer<1.0,>=0.12->gradio) (2.18.0)\n",
            "Requirement already satisfied: watchfiles>=0.13 in c:\\users\\gargr\\appdata\\local\\programs\\python\\python310\\lib\\site-packages (from uvicorn>=0.14.0->gradio) (0.22.0)\n",
            "Requirement already satisfied: httptools>=0.5.0 in c:\\users\\gargr\\appdata\\local\\programs\\python\\python310\\lib\\site-packages (from uvicorn>=0.14.0->gradio) (0.6.1)\n",
            "Requirement already satisfied: python-dotenv>=0.13 in c:\\users\\gargr\\appdata\\local\\programs\\python\\python310\\lib\\site-packages (from uvicorn>=0.14.0->gradio) (1.0.1)\n",
            "Collecting charset-normalizer<4,>=2\n",
            "  Downloading charset_normalizer-3.3.2-cp310-cp310-win_amd64.whl (100 kB)\n",
            "     -------------------------------------- 100.3/100.3 KB 2.8 MB/s eta 0:00:00\n",
            "Requirement already satisfied: mdurl~=0.1 in c:\\users\\gargr\\appdata\\local\\programs\\python\\python310\\lib\\site-packages (from markdown-it-py>=2.2.0->rich>=10.11.0->typer<1.0,>=0.12->gradio) (0.1.2)\n",
            "Using legacy 'setup.py install' for ffmpy, since package 'wheel' is not installed.\n",
            "Installing collected packages: pydub, ffmpy, websockets, urllib3, toolz, tomlkit, semantic-version, ruff, rpds-py, importlib-resources, fsspec, charset-normalizer, attrs, aiofiles, requests, referencing, jsonschema-specifications, huggingface-hub, jsonschema, gradio-client, altair, gradio\n",
            "  Running setup.py install for ffmpy: started\n",
            "  Running setup.py install for ffmpy: finished with status 'done'\n",
            "  Attempting uninstall: websockets\n",
            "    Found existing installation: websockets 12.0\n",
            "    Uninstalling websockets-12.0:\n",
            "      Successfully uninstalled websockets-12.0\n",
            "Successfully installed aiofiles-23.2.1 altair-5.3.0 attrs-23.2.0 charset-normalizer-3.3.2 ffmpy-0.3.2 fsspec-2024.6.0 gradio-4.36.1 gradio-client-1.0.1 huggingface-hub-0.23.4 importlib-resources-6.4.0 jsonschema-4.22.0 jsonschema-specifications-2023.12.1 pydub-0.25.1 referencing-0.35.1 requests-2.32.3 rpds-py-0.18.1 ruff-0.4.9 semantic-version-2.10.0 tomlkit-0.12.0 toolz-0.12.1 urllib3-2.2.2 websockets-11.0.3\n"
          ]
        },
        {
          "name": "stderr",
          "output_type": "stream",
          "text": [
            "WARNING: You are using pip version 22.0.4; however, version 24.0 is available.\n",
            "You should consider upgrading via the 'C:\\Users\\gargr\\AppData\\Local\\Programs\\Python\\Python310\\python.exe -m pip install --upgrade pip' command.\n"
          ]
        }
      ],
      "source": [
        "#@title Install Dependencies\n",
        "# ! git clone https://github.com/keirp/automatic_prompt_engineer.git\n",
        "! pip install openai numpy tqdm gradio"
      ]
    },
    {
      "cell_type": "code",
      "execution_count": 1,
      "metadata": {
        "id": "HbYuP9fSwDUb"
      },
      "outputs": [
        {
          "name": "stderr",
          "output_type": "stream",
          "text": [
            "c:\\Users\\gargr\\AppData\\Local\\Programs\\Python\\Python310\\lib\\site-packages\\tqdm\\auto.py:21: TqdmWarning: IProgress not found. Please update jupyter and ipywidgets. See https://ipywidgets.readthedocs.io/en/stable/user_install.html\n",
            "  from .autonotebook import tqdm as notebook_tqdm\n"
          ]
        }
      ],
      "source": [
        "#@title Import\n",
        "import os\n",
        "import sys\n",
        "import openai\n",
        "\n",
        "# for path in ['automatic_prompt_engineer/automatic_prompt_engineer',\n",
        "#              'automatic_prompt_engineer']:\n",
        "#   if path not in sys.path:\n",
        "#     sys.path.insert(1, path)\n",
        "\n",
        "from demo import get_demo"
      ]
    },
    {
      "cell_type": "markdown",
      "metadata": {
        "id": "ISYGGUiElzsu"
      },
      "source": [
        "# Start Demo\n",
        "- [Video](https://drive.google.com/file/d/18e3N5AbrHUsfnuDVvoEKLfxUxkbr6QUI/view?usp=sharing)\n",
        "- Requirement: openai api_key\n",
        "- After running the following cell, you can see a public URL end with `.gradio.app`. Open it up to start APE!"
      ]
    },
    {
      "cell_type": "code",
      "execution_count": 2,
      "metadata": {
        "colab": {
          "base_uri": "https://localhost:8080/",
          "height": 443
        },
        "id": "SjnWC-WhFntO",
        "outputId": "3d88fdbf-29f1-4569-a961-856921bd74b0"
      },
      "outputs": [
        {
          "ename": "TypeError",
          "evalue": "Textbox.__init__() got an unexpected keyword argument 'disabled'",
          "output_type": "error",
          "traceback": [
            "\u001b[1;31m---------------------------------------------------------------------------\u001b[0m",
            "\u001b[1;31mTypeError\u001b[0m                                 Traceback (most recent call last)",
            "Cell \u001b[1;32mIn[2], line 2\u001b[0m\n\u001b[0;32m      1\u001b[0m openai\u001b[38;5;241m.\u001b[39mapi_key \u001b[38;5;241m=\u001b[39m \u001b[38;5;124m'\u001b[39m\u001b[38;5;124msk-proj-A5JCSBhxSuQM0PodFK8mT3BlbkFJpqyNQJn9tY0gaV9RX3cj\u001b[39m\u001b[38;5;124m'\u001b[39m\n\u001b[1;32m----> 2\u001b[0m demo \u001b[38;5;241m=\u001b[39m \u001b[43mget_demo\u001b[49m\u001b[43m(\u001b[49m\u001b[43m)\u001b[49m\n\u001b[0;32m      3\u001b[0m demo\u001b[38;5;241m.\u001b[39mlaunch(debug\u001b[38;5;241m=\u001b[39m\u001b[38;5;28;01mTrue\u001b[39;00m)\n",
            "File \u001b[1;32mc:\\Users\\gargr\\OneDrive\\Documents\\WiDS Confrence\\automatic_prompt_engineer\\demo.py:365\u001b[0m, in \u001b[0;36mget_demo\u001b[1;34m()\u001b[0m\n\u001b[0;32m    361\u001b[0m     demos_template \u001b[38;5;241m=\u001b[39m gr\u001b[38;5;241m.\u001b[39mTextbox(lines\u001b[38;5;241m=\u001b[39m\u001b[38;5;241m6\u001b[39m, value\u001b[38;5;241m=\u001b[39m\u001b[38;5;124m\"\u001b[39m\u001b[38;5;124mInput: [INPUT]\u001b[39m\u001b[38;5;130;01m\\n\u001b[39;00m\u001b[38;5;124mOutput: [OUTPUT]\u001b[39m\u001b[38;5;124m\"\u001b[39m,\n\u001b[0;32m    362\u001b[0m                                 label\u001b[38;5;241m=\u001b[39m\u001b[38;5;124m\"\u001b[39m\u001b[38;5;124mDemos Template\u001b[39m\u001b[38;5;124m\"\u001b[39m)\n\u001b[0;32m    364\u001b[0m \u001b[38;5;28;01mwith\u001b[39;00m gr\u001b[38;5;241m.\u001b[39mRow():\n\u001b[1;32m--> 365\u001b[0m     cost \u001b[38;5;241m=\u001b[39m \u001b[43mgr\u001b[49m\u001b[38;5;241;43m.\u001b[39;49m\u001b[43mTextbox\u001b[49m\u001b[43m(\u001b[49m\u001b[43mlines\u001b[49m\u001b[38;5;241;43m=\u001b[39;49m\u001b[38;5;241;43m1\u001b[39;49m\u001b[43m,\u001b[49m\u001b[43m \u001b[49m\u001b[43mvalue\u001b[49m\u001b[38;5;241;43m=\u001b[39;49m\u001b[38;5;124;43m\"\u001b[39;49m\u001b[38;5;124;43m\"\u001b[39;49m\u001b[43m,\u001b[49m\u001b[43m \u001b[49m\u001b[43mlabel\u001b[49m\u001b[38;5;241;43m=\u001b[39;49m\u001b[38;5;124;43m\"\u001b[39;49m\u001b[38;5;124;43mEstimated Cost ($)\u001b[39;49m\u001b[38;5;124;43m\"\u001b[39;49m\u001b[43m,\u001b[49m\u001b[43m \u001b[49m\u001b[43mdisabled\u001b[49m\u001b[38;5;241;43m=\u001b[39;49m\u001b[38;5;28;43;01mTrue\u001b[39;49;00m\u001b[43m)\u001b[49m\n\u001b[0;32m    366\u001b[0m     cost_button \u001b[38;5;241m=\u001b[39m gr\u001b[38;5;241m.\u001b[39mButton(\u001b[38;5;124m\"\u001b[39m\u001b[38;5;124mEstimate Cost\u001b[39m\u001b[38;5;124m\"\u001b[39m)\n\u001b[0;32m    367\u001b[0m     ape_button \u001b[38;5;241m=\u001b[39m gr\u001b[38;5;241m.\u001b[39mButton(\u001b[38;5;124m\"\u001b[39m\u001b[38;5;124mAPE\u001b[39m\u001b[38;5;124m\"\u001b[39m)\n",
            "File \u001b[1;32mc:\\Users\\gargr\\AppData\\Local\\Programs\\Python\\Python310\\lib\\site-packages\\gradio\\component_meta.py:163\u001b[0m, in \u001b[0;36mupdateable.<locals>.wrapper\u001b[1;34m(*args, **kwargs)\u001b[0m\n\u001b[0;32m    161\u001b[0m     \u001b[38;5;28;01mreturn\u001b[39;00m \u001b[38;5;28;01mNone\u001b[39;00m\n\u001b[0;32m    162\u001b[0m \u001b[38;5;28;01melse\u001b[39;00m:\n\u001b[1;32m--> 163\u001b[0m     \u001b[38;5;28;01mreturn\u001b[39;00m fn(\u001b[38;5;28mself\u001b[39m, \u001b[38;5;241m*\u001b[39m\u001b[38;5;241m*\u001b[39mkwargs)\n",
            "\u001b[1;31mTypeError\u001b[0m: Textbox.__init__() got an unexpected keyword argument 'disabled'"
          ]
        }
      ],
      "source": [
        "demo = get_demo()\n",
        "demo.launch(debug=True)"
      ]
    },
    {
      "cell_type": "code",
      "execution_count": null,
      "metadata": {
        "id": "4JlYapcra8Hj"
      },
      "outputs": [],
      "source": []
    }
  ],
  "metadata": {
    "colab": {
      "provenance": []
    },
    "kernelspec": {
      "display_name": "Python 3.8.8 ('py38')",
      "language": "python",
      "name": "python3"
    },
    "language_info": {
      "codemirror_mode": {
        "name": "ipython",
        "version": 3
      },
      "file_extension": ".py",
      "mimetype": "text/x-python",
      "name": "python",
      "nbconvert_exporter": "python",
      "pygments_lexer": "ipython3",
      "version": "3.10.5"
    },
    "orig_nbformat": 4,
    "vscode": {
      "interpreter": {
        "hash": "c2afcb7a2e6fcb9490d448e607abf9226c3f7acca28baeea9bc24b456562037f"
      }
    }
  },
  "nbformat": 4,
  "nbformat_minor": 0
}
